{
 "cells": [
  {
   "cell_type": "markdown",
   "metadata": {},
   "source": [
    "# Plotting with Matplotlib\n",
    "\n",
    "In this section, we study how to plot numerical data. Python itself does not have any built-in\n",
    "plotting capabilities, so we will be using [`matplotlib`](https://matplotlib.org/),\n",
    "the most popular graphics library for Python.\n",
    "\n",
    "-   For details on a particular plotting function, see the\n",
    "    [official documentation](https://matplotlib.org/stable/users/index.html).\n",
    "-   There is an official introductory [tutorial](https://matplotlib.org/stable/tutorials/introductory/pyplot.html)\n",
    "    which you can use along-side the material presented here.\n",
    "\n",
    "In order to access the functions and objects from matplotlib, we\n",
    "first need to import them. The general convention is to use the\n",
    "namespace `plt` for this purpose:\n",
    "\n",
    "```python\n",
    "import matplotlib.pyplot as plt\n",
    "```\n",
    "\n",
    "Note that there is an additional high-level plotting library called \n",
    "[seaborn](https://seaborn.pydata.org/) which builds on top of Matplotlib with a focus on providing \n",
    "convenient functions to create statistical graphs."
   ]
  },
  {
   "attachments": {},
   "cell_type": "markdown",
   "metadata": {
    "pycharm": {
     "name": "#%% md\n"
    }
   },
   "source": [
    "***\n",
    "## Line plots\n",
    "\n",
    "One of the simplest plots we can generate using the\n",
    "[`plot()`](https://matplotlib.org/stable/api/_as_gen/matplotlib.pyplot.plot.html)\n",
    "function is a line defined by a list of $y$-values."
   ]
  },
  {
   "cell_type": "code",
   "execution_count": null,
   "metadata": {
    "pycharm": {
     "name": "#%%\n"
    }
   },
   "outputs": [],
   "source": [
    "# import matplotlib library\n",
    "import matplotlib.pyplot as plt\n",
    "\n",
    "# Plot list of integers\n",
    "yvalues = [1, 4, 2, 3]\n",
    "plt.plot(yvalues)"
   ]
  },
  {
   "attachments": {},
   "cell_type": "markdown",
   "metadata": {
    "pycharm": {
     "name": "#%% md\n"
    }
   },
   "source": [
    "We didn't even have to specify the corresponding $x$-values,\n",
    "as Matplotlib automatically assumes them to be [0, 1, 2, ...].\n",
    "Usually, we want to plot for a given set of $x$-values like this:"
   ]
  },
  {
   "cell_type": "code",
   "execution_count": null,
   "metadata": {
    "pycharm": {
     "name": "#%%\n"
    }
   },
   "outputs": [],
   "source": [
    "# explicitly specify x-values\n",
    "xvalues = [10, 20, 30, 40]\n",
    "plt.plot(xvalues, yvalues)"
   ]
  },
  {
   "attachments": {},
   "cell_type": "markdown",
   "metadata": {
    "pycharm": {
     "name": "#%% md\n"
    }
   },
   "source": [
    "We can also specify multiple lines to be plotted in a single graph:"
   ]
  },
  {
   "cell_type": "code",
   "execution_count": null,
   "metadata": {
    "pycharm": {
     "name": "#%%\n"
    }
   },
   "outputs": [],
   "source": [
    "yvalues2 = [2.0, 1.0, 3.0, 0.0]\n",
    "plt.plot(xvalues, yvalues, 'b-', xvalues, yvalues2, 'k--')"
   ]
  },
  {
   "attachments": {},
   "cell_type": "markdown",
   "metadata": {
    "pycharm": {
     "name": "#%% md\n"
    }
   },
   "source": [
    "The characters following each set of $y$-values are style specifications.\n",
    "The letters are short-hand notations for colors\n",
    "(see [here](https://matplotlib.org/stable/tutorials/colors/colors.html) for details):\n",
    "\n",
    "- `b`: blue\n",
    "- `g`: green\n",
    "- `r`: red\n",
    "- `c`: cyan\n",
    "- `m`: magenta\n",
    "- `y`: yellow\n",
    "- `k`: black\n",
    "- `w`: white\n",
    "\n",
    "The remaining characters set the line styles. Valid values are\n",
    "\n",
    "-   `-` solid line\n",
    "-   `--` dashed line\n",
    "-   `-.` dash-dotted line\n",
    "-   `:` dotted line\n",
    "\n",
    "Additionally, we can append marker symbols to the style specification.\n",
    "The most frequently used ones are\n",
    "\n",
    "- `o`: circle\n",
    "- `s`: square\n",
    "- `*`: star\n",
    "- `x`: x\n",
    "- `d`: (thin) diamond\n",
    "\n",
    "The whole list of supported symbols can be found [here](https://matplotlib.org/stable/api/markers_api.html)."
   ]
  },
  {
   "attachments": {},
   "cell_type": "markdown",
   "metadata": {},
   "source": [
    "Instead of passing multiple values to be plotted at once, \n",
    "we can also repeatedly call `plot()` to add additional elements to a graph. \n",
    "This is more flexible since we can pass additional arguments which are \n",
    "specific to one particular set of data, such as labels displayed in legends."
   ]
  },
  {
   "cell_type": "code",
   "execution_count": null,
   "metadata": {},
   "outputs": [],
   "source": [
    "# Plot two lines by calling plot() twice\n",
    "plt.plot(xvalues, yvalues, 'b-o')\n",
    "plt.plot(xvalues, yvalues2, 'k--o')"
   ]
  },
  {
   "attachments": {},
   "cell_type": "markdown",
   "metadata": {},
   "source": [
    "Individual calls to `plot()` also allow us to specify styles\n",
    "more explicitly using keyword arguments:"
   ]
  },
  {
   "cell_type": "code",
   "execution_count": null,
   "metadata": {},
   "outputs": [],
   "source": [
    "# pass plot styles as explicit keyword arguments\n",
    "plt.plot(xvalues, yvalues, color='blue', linestyle='-', marker='o')\n",
    "plt.plot(xvalues, yvalues2, color='black', linestyle='--', marker='o')"
   ]
  },
  {
   "attachments": {},
   "cell_type": "markdown",
   "metadata": {},
   "source": [
    "Note that in the example above, we use named colors such as `'red'` or `'blue'` (see \n",
    "[here](https://matplotlib.org/stable/gallery/color/named_colors.html#base-colors) for the complete list of named colors). "
   ]
  },
  {
   "attachments": {},
   "cell_type": "markdown",
   "metadata": {},
   "source": [
    "Matplotlib accepts abbreviations for the most common \n",
    "style definitions using the following shortcuts:\n",
    "\n",
    "- `c` or `color`\n",
    "- `ls` or `linestyle`\n",
    "- `lw` or `linewidth`\n",
    "- `ms` or `markersize`\n",
    "\n",
    "See the section on _Other Parameters_ in the [`plot()`](https://matplotlib.org/stable/api/_as_gen/matplotlib.pyplot.plot.html)\n",
    "documentation for a complete list of arguments and their abbreviations.\n",
    "\n",
    "We can write thus rewrite the above code as follows:"
   ]
  },
  {
   "cell_type": "code",
   "execution_count": null,
   "metadata": {
    "scrolled": true
   },
   "outputs": [],
   "source": [
    "# abbreviate plot style keywords\n",
    "plt.plot(xvalues, yvalues, c='blue', ls='-', marker='o')\n",
    "plt.plot(xvalues, yvalues2, c='black', ls='--', marker='o')"
   ]
  },
  {
   "cell_type": "markdown",
   "metadata": {},
   "source": [
    "<div class=\"alert alert-info\">\n",
    "<h3> Your turn</h3>\n",
    "Use the data files located in the folder <TT>../../data/FRED</TT> to perform the following tasks:\n",
    "<ol>\n",
    "    <li>Load the data from <TT>FRED_annual.csv</TT>. The file contains annual observations\n",
    "        on selected macroeconomic variables for the US.\n",
    "    <li>Plot the unemployment rate (column <TT>UNRATE</TT>) using a blue dashed line with line width 0.5 and the inflation rate (column <TT>INFLATION</TT>) using an orange line with line width 0.75 in the <i>same</i> figure.</li>\n",
    "</ol>\n",
    "</div>"
   ]
  },
  {
   "cell_type": "code",
   "execution_count": null,
   "metadata": {},
   "outputs": [
    {
     "data": {
      "text/html": [
       "<div>\n",
       "<style scoped>\n",
       "    .dataframe tbody tr th:only-of-type {\n",
       "        vertical-align: middle;\n",
       "    }\n",
       "\n",
       "    .dataframe tbody tr th {\n",
       "        vertical-align: top;\n",
       "    }\n",
       "\n",
       "    .dataframe thead th {\n",
       "        text-align: right;\n",
       "    }\n",
       "</style>\n",
       "<table border=\"1\" class=\"dataframe\">\n",
       "  <thead>\n",
       "    <tr style=\"text-align: right;\">\n",
       "      <th></th>\n",
       "      <th>Year</th>\n",
       "      <th>GDP</th>\n",
       "      <th>CPI</th>\n",
       "      <th>UNRATE</th>\n",
       "      <th>FEDFUNDS</th>\n",
       "      <th>INFLATION</th>\n",
       "    </tr>\n",
       "  </thead>\n",
       "  <tbody>\n",
       "    <tr>\n",
       "      <th>0</th>\n",
       "      <td>1954</td>\n",
       "      <td>2877.7</td>\n",
       "      <td>26.9</td>\n",
       "      <td>5.6</td>\n",
       "      <td>1.0</td>\n",
       "      <td>NaN</td>\n",
       "    </tr>\n",
       "    <tr>\n",
       "      <th>1</th>\n",
       "      <td>1955</td>\n",
       "      <td>3083.0</td>\n",
       "      <td>26.8</td>\n",
       "      <td>4.4</td>\n",
       "      <td>1.8</td>\n",
       "      <td>-0.4</td>\n",
       "    </tr>\n",
       "    <tr>\n",
       "      <th>2</th>\n",
       "      <td>1956</td>\n",
       "      <td>3148.8</td>\n",
       "      <td>27.2</td>\n",
       "      <td>4.1</td>\n",
       "      <td>2.7</td>\n",
       "      <td>1.5</td>\n",
       "    </tr>\n",
       "    <tr>\n",
       "      <th>3</th>\n",
       "      <td>1957</td>\n",
       "      <td>3215.1</td>\n",
       "      <td>28.1</td>\n",
       "      <td>4.3</td>\n",
       "      <td>3.1</td>\n",
       "      <td>3.3</td>\n",
       "    </tr>\n",
       "    <tr>\n",
       "      <th>4</th>\n",
       "      <td>1958</td>\n",
       "      <td>3191.2</td>\n",
       "      <td>28.9</td>\n",
       "      <td>6.8</td>\n",
       "      <td>1.6</td>\n",
       "      <td>2.8</td>\n",
       "    </tr>\n",
       "    <tr>\n",
       "      <th>...</th>\n",
       "      <td>...</td>\n",
       "      <td>...</td>\n",
       "      <td>...</td>\n",
       "      <td>...</td>\n",
       "      <td>...</td>\n",
       "      <td>...</td>\n",
       "    </tr>\n",
       "    <tr>\n",
       "      <th>66</th>\n",
       "      <td>2020</td>\n",
       "      <td>20267.6</td>\n",
       "      <td>258.9</td>\n",
       "      <td>8.1</td>\n",
       "      <td>0.4</td>\n",
       "      <td>1.3</td>\n",
       "    </tr>\n",
       "    <tr>\n",
       "      <th>67</th>\n",
       "      <td>2021</td>\n",
       "      <td>21494.8</td>\n",
       "      <td>271.0</td>\n",
       "      <td>5.4</td>\n",
       "      <td>0.1</td>\n",
       "      <td>4.7</td>\n",
       "    </tr>\n",
       "    <tr>\n",
       "      <th>68</th>\n",
       "      <td>2022</td>\n",
       "      <td>22034.8</td>\n",
       "      <td>292.6</td>\n",
       "      <td>3.6</td>\n",
       "      <td>1.7</td>\n",
       "      <td>8.0</td>\n",
       "    </tr>\n",
       "    <tr>\n",
       "      <th>69</th>\n",
       "      <td>2023</td>\n",
       "      <td>22671.1</td>\n",
       "      <td>304.7</td>\n",
       "      <td>3.6</td>\n",
       "      <td>5.0</td>\n",
       "      <td>4.1</td>\n",
       "    </tr>\n",
       "    <tr>\n",
       "      <th>70</th>\n",
       "      <td>2024</td>\n",
       "      <td>23302.2</td>\n",
       "      <td>313.7</td>\n",
       "      <td>4.0</td>\n",
       "      <td>5.1</td>\n",
       "      <td>3.0</td>\n",
       "    </tr>\n",
       "  </tbody>\n",
       "</table>\n",
       "<p>71 rows × 6 columns</p>\n",
       "</div>"
      ],
      "text/plain": [
       "    Year      GDP    CPI  UNRATE  FEDFUNDS  INFLATION\n",
       "0   1954   2877.7   26.9     5.6       1.0        NaN\n",
       "1   1955   3083.0   26.8     4.4       1.8       -0.4\n",
       "2   1956   3148.8   27.2     4.1       2.7        1.5\n",
       "3   1957   3215.1   28.1     4.3       3.1        3.3\n",
       "4   1958   3191.2   28.9     6.8       1.6        2.8\n",
       "..   ...      ...    ...     ...       ...        ...\n",
       "66  2020  20267.6  258.9     8.1       0.4        1.3\n",
       "67  2021  21494.8  271.0     5.4       0.1        4.7\n",
       "68  2022  22034.8  292.6     3.6       1.7        8.0\n",
       "69  2023  22671.1  304.7     3.6       5.0        4.1\n",
       "70  2024  23302.2  313.7     4.0       5.1        3.0\n",
       "\n",
       "[71 rows x 6 columns]"
      ]
     },
     "execution_count": 1,
     "metadata": {},
     "output_type": "execute_result"
    }
   ],
   "source": [
    "import pandas as pd\n",
    "DATA_PATH = '../../data'\n",
    "df2 = pd.read_csv(f'{DATA_PATH}/FRED/FRED_annual.csv')\n",
    "df2"
   ]
  },
  {
   "cell_type": "code",
   "execution_count": 6,
   "metadata": {},
   "outputs": [
    {
     "data": {
      "image/png": "[encoded data removed]",
      "text/plain": [
       "<Figure size 640x480 with 1 Axes>"
      ]
     },
     "metadata": {},
     "output_type": "display_data"
    }
   ],
   "source": [
    "import matplotlib.pyplot as plt\n",
    "plt.plot(df['Year'], df['UNRATE'], linestyle = '--', color = 'blue', linewidth = 0.5, label = 'Unemployment Rate')\n",
    "plt.plot(df['Year'], df['INFLATION'], linestyle = '-', color = 'red', linewidth = 0.75, label = 'Inflation Rate')\n",
    "\n",
    "plt.xlabel('Year')\n",
    "plt.ylabel('Rate(%)')\n",
    "plt.title('Unemployment and Inflation Rates Over Time')\n",
    "plt.legend()\n",
    "plt.grid(True)\n",
    "plt.tight_layout()\n",
    "plt.show()\n"
   ]
  },
  {
   "attachments": {},
   "cell_type": "markdown",
   "metadata": {},
   "source": [
    "***\n",
    "## Scatter plots\n",
    "\n",
    "We use the [`scatter()`](https://matplotlib.org/stable/api/_as_gen/matplotlib.pyplot.scatter.html) \n",
    "function to create scatter plots in a similar fashion to line plots:"
   ]
  },
  {
   "cell_type": "code",
   "execution_count": 9,
   "metadata": {
    "pycharm": {
     "name": "#%%\n"
    }
   },
   "outputs": [
    {
     "data": {
      "text/plain": [
       "<matplotlib.collections.PathCollection at 0x1f99b23b250>"
      ]
     },
     "execution_count": 9,
     "metadata": {},
     "output_type": "execute_result"
    },
    {
     "data": {
      "image/png": "[encoded data removed]",
      "text/plain": [
       "<Figure size 640x480 with 1 Axes>"
      ]
     },
     "metadata": {},
     "output_type": "display_data"
    }
   ],
   "source": [
    "import matplotlib.pyplot as plt\n",
    "import numpy as np\n",
    "\n",
    "# Number of points\n",
    "N = 50\n",
    "\n",
    "# Create 50 uniformly-spaced values on the unit interval\n",
    "xvalues = np.linspace(0.0, 1.0, N)\n",
    "# Draw random numbers \n",
    "yvalues = np.random.default_rng(seed=123).random(N)\n",
    "\n",
    "plt.scatter(xvalues, yvalues, color='blue')"
   ]
  },
  {
   "attachments": {},
   "cell_type": "markdown",
   "metadata": {},
   "source": [
    "We could in principle create scatter plots using `plot()` by turning\n",
    "off the connecting lines. However, `scatter()` allows\n",
    "us to specify the color and marker size as collections, so\n",
    "we can vary these for every point. `plot()`, on the other hand, imposes\n",
    "the same style on all points plotted in that particular function call."
   ]
  },
  {
   "cell_type": "code",
   "execution_count": 10,
   "metadata": {},
   "outputs": [
    {
     "data": {
      "text/plain": [
       "<matplotlib.collections.PathCollection at 0x1f99b21e850>"
      ]
     },
     "execution_count": 10,
     "metadata": {},
     "output_type": "execute_result"
    },
    {
     "data": {
      "image/png": "[encoded data removed]",
      "text/plain": [
       "<Figure size 640x480 with 1 Axes>"
      ]
     },
     "metadata": {},
     "output_type": "display_data"
    }
   ],
   "source": [
    "# Draw random marker sizes\n",
    "size = np.random.default_rng(seed=456).random(N) * 150.0\n",
    "\n",
    "# plot with point-specific marker sizes\n",
    "plt.scatter(xvalues, yvalues, s=size)"
   ]
  },
  {
   "cell_type": "markdown",
   "metadata": {},
   "source": [
    "<div class=\"alert alert-info\">\n",
    "<h3> Your turn</h3>\n",
    "Use the data files located in the folder <TT>../../data/FRED</TT> to perform the following tasks:\n",
    "<ol>\n",
    "    <li>Load the data in <TT>FRED_monthly.csv</TT>. The file contains monthly observations\n",
    "        on selected macroeconomic variables for the US.\n",
    "        <br/>\n",
    "        <i>Hint:</i> Use <TT>pd.read_csv(..., parse_dates=['DATE'], index_col='DATE')</TT> to automatically parse strings stored in the <TT>DATE</TT> column as dates and set <TT>DATE</TT> as the index.\n",
    "        </li>\n",
    "    <li>Create a scatter plot of the real interest rate (column <TT>REALRATE</TT>) on the y-axis against the Federal Funds rate (column <TT>FEDFUNDS</TT>) on the x-axis.\n",
    "    Specify the arguments <TT>edgecolors='blue'</TT> and <TT>color='none'</TT> to plot the data as blue rings.\n",
    "    </li>\n",
    "</ol>\n",
    "</div>"
   ]
  },
  {
   "cell_type": "markdown",
   "metadata": {},
   "source": [
    "***\n",
    "\n",
    "## Histograms\n",
    "\n",
    "We use the [`hist()`](https://matplotlib.org/stable/api/_as_gen/matplotlib.pyplot.hist.html) function to create histograms which can be used to nonparametrically visualize the distribution of some sample data.\n",
    "\n",
    "To illustrate, we draw a random sample from the standard-normal distribution and visualize it using a histogram:"
   ]
  },
  {
   "cell_type": "code",
   "execution_count": 11,
   "metadata": {},
   "outputs": [
    {
     "data": {
      "text/plain": [
       "Text(0.5, 1.0, 'Histogram of normal draws')"
      ]
     },
     "execution_count": 11,
     "metadata": {},
     "output_type": "execute_result"
    },
    {
     "data": {
      "image/png": "[encoded data removed]",
      "text/plain": [
       "<Figure size 640x480 with 1 Axes>"
      ]
     },
     "metadata": {},
     "output_type": "display_data"
    }
   ],
   "source": [
    "import matplotlib.pyplot as plt\n",
    "import numpy as np\n",
    "\n",
    "# Draw 10,000 standard-normal numbers\n",
    "x = np.random.default_rng(seed=1234).normal(size=10_000)\n",
    "\n",
    "# Plot the results as a histogram\n",
    "plt.hist(x, bins=50, linewidth=0.5, edgecolor='white')\n",
    "plt.xlabel('Realized random number')\n",
    "plt.ylabel('Bin size')\n",
    "plt.title('Histogram of normal draws')"
   ]
  },
  {
   "attachments": {},
   "cell_type": "markdown",
   "metadata": {
    "pycharm": {
     "name": "#%% md\n"
    }
   },
   "source": [
    "***\n",
    "## Plotting categorical data\n",
    "\n",
    "Instead of numerical values on the $x$-axis, we can also plot categorical\n",
    "variables using the function [`bar()`](https://matplotlib.org/stable/api/_as_gen/matplotlib.pyplot.bar.html).\n",
    "\n",
    "For example, assume we have four categories and each has an associated\n",
    "numerical value:"
   ]
  },
  {
   "cell_type": "code",
   "execution_count": 12,
   "metadata": {
    "pycharm": {
     "name": "#%%\n"
    }
   },
   "outputs": [
    {
     "data": {
      "text/plain": [
       "Text(0, 0.5, 'In thousand')"
      ]
     },
     "execution_count": 12,
     "metadata": {},
     "output_type": "execute_result"
    },
    {
     "data": {
      "image/png": "[encoded data removed]",
      "text/plain": [
       "<Figure size 640x480 with 1 Axes>"
      ]
     },
     "metadata": {},
     "output_type": "display_data"
    }
   ],
   "source": [
    "import matplotlib.pyplot as plt\n",
    "\n",
    "# Define category labels\n",
    "municipality = ['Oslo', 'Bergen', 'Trondheim', 'Stavanger']\n",
    "# Population in thousand\n",
    "population = np.array([717710, 291940,  214565, 149048]) / 1000\n",
    "\n",
    "# Create bar chart\n",
    "plt.bar(municipality, population)\n",
    "\n",
    "# Add overall title\n",
    "plt.title('Population')\n",
    "plt.ylabel('In thousand')"
   ]
  },
  {
   "attachments": {},
   "cell_type": "markdown",
   "metadata": {},
   "source": [
    "We use [`barh()`](https://matplotlib.org/stable/api/_as_gen/matplotlib.pyplot.barh.html) to create *horizontal* bars:"
   ]
  },
  {
   "cell_type": "code",
   "execution_count": 13,
   "metadata": {},
   "outputs": [
    {
     "data": {
      "text/plain": [
       "Text(0.5, 0, 'In thousand')"
      ]
     },
     "execution_count": 13,
     "metadata": {},
     "output_type": "execute_result"
    },
    {
     "data": {
      "image/png": "[encoded data removed]",
      "text/plain": [
       "<Figure size 640x480 with 1 Axes>"
      ]
     },
     "metadata": {},
     "output_type": "display_data"
    }
   ],
   "source": [
    "plt.barh(municipality, population)\n",
    "plt.title('Population')\n",
    "plt.xlabel('In thousand')"
   ]
  },
  {
   "attachments": {},
   "cell_type": "markdown",
   "metadata": {
    "pycharm": {
     "name": "#%% md\n"
    }
   },
   "source": [
    "***\n",
    "## Adding labels and annotations\n",
    "\n",
    "Matplotlib has numerous functions to add labels and annotations:\n",
    "\n",
    "-   Use [`title()`](https://matplotlib.org/stable/api/_as_gen/matplotlib.pyplot.title.html) \n",
    "    and [`suptitle()`](https://matplotlib.org/stable/api/_as_gen/matplotlib.pyplot.suptitle.html) \n",
    "    to add titles.\n",
    "    The latter adds a title for the whole figure, which might\n",
    "    span multiple plots (axes).\n",
    "-   We can add axis labels by calling \n",
    "    [`xlabel()`](https://matplotlib.org/stable/api/_as_gen/matplotlib.pyplot.xlabel.html) \n",
    "    and [`ylabel()`](https://matplotlib.org/stable/api/_as_gen/matplotlib.pyplot.ylabel.html).\n",
    "-   To add a legend, call \n",
    "    [`legend()`](https://matplotlib.org/stable/api/_as_gen/matplotlib.pyplot.legend.html), which in its most simple\n",
    "    form takes a list of labels which are in the same order\n",
    "    as the plotted data.\n",
    "-   Use [`text()`](https://matplotlib.org/stable/api/_as_gen/matplotlib.pyplot.text.html)\n",
    "    to add additional text at arbitrary locations."
   ]
  },
  {
   "cell_type": "code",
   "execution_count": 14,
   "metadata": {
    "pycharm": {
     "name": "#%%\n"
    }
   },
   "outputs": [
    {
     "data": {
      "text/plain": [
       "Text(0.05, 0.05, 'More text')"
      ]
     },
     "execution_count": 14,
     "metadata": {},
     "output_type": "execute_result"
    },
    {
     "data": {
      "image/png": "[encoded data removed]",
      "text/plain": [
       "<Figure size 640x480 with 1 Axes>"
      ]
     },
     "metadata": {},
     "output_type": "display_data"
    }
   ],
   "source": [
    "import matplotlib.pyplot as plt\n",
    "\n",
    "xvalues = [0, 1, 2, 3]\n",
    "yvalues = [1, 4, 2, 3]\n",
    "yvalues2 = [2.0, 1.0, 3.0, 0.0]\n",
    "\n",
    "plt.plot(xvalues, yvalues, 'r', xvalues, yvalues2, 'b')\n",
    "plt.suptitle('Figure title')\n",
    "plt.title('Axes-specific title')\n",
    "plt.xlabel('Label for x-axis')\n",
    "plt.ylabel('Label for y-axis')\n",
    "plt.legend(['Red line', 'Blue line'])\n",
    "\n",
    "# Adds text at data coordinates (0.05, 0.05)\n",
    "plt.text(0.05, 0.05, 'More text')"
   ]
  },
  {
   "attachments": {},
   "cell_type": "markdown",
   "metadata": {
    "pycharm": {
     "name": "#%% md\n"
    }
   },
   "source": [
    "***\n",
    "## Plot limits, ticks and tick labels\n",
    "\n",
    "We adjust the plot limits, ticks and tick labels as follows:\n",
    "\n",
    "-   Plotting limits are set using the \n",
    "    [`xlim()`](https://matplotlib.org/stable/api/_as_gen/matplotlib.pyplot.xlim.html) and \n",
    "    [`ylim()`](https://matplotlib.org/stable/api/_as_gen/matplotlib.pyplot.ylim.html) functions.\n",
    "    Each accepts a tuple `(min,max)` to set the desired range.\n",
    "-   Ticks and tick labels can be set by calling \n",
    "    [`xticks()`](https://matplotlib.org/stable/api/_as_gen/matplotlib.pyplot.xticks.html) \n",
    "    or [`yticks()`](https://matplotlib.org/stable/api/_as_gen/matplotlib.pyplot.yticks.html).\n"
   ]
  },
  {
   "cell_type": "code",
   "execution_count": null,
   "metadata": {
    "pycharm": {
     "name": "#%%\n"
    }
   },
   "outputs": [],
   "source": [
    "import matplotlib.pyplot as plt\n",
    "import numpy as np\n",
    "\n",
    "xvalues = np.linspace(0.0, 2*np.pi, 50)\n",
    "plt.plot(xvalues, np.sin(xvalues))\n",
    "\n",
    "# Set major ticks and labels for x-axis\n",
    "# We can use LaTeX code in labels!\n",
    "plt.xticks([0.0, np.pi, 2*np.pi], ['0', r'$\\pi$', r'$2\\pi$'])\n",
    "# Set major ticks for y-axis\n",
    "plt.yticks([-1.0, 0.0, 1.0])\n",
    "\n",
    "# Adjust plot limits in x and y direction\n",
    "plt.xlim((-0.5, 2*np.pi + 0.5))\n",
    "plt.ylim((-1.1, 1.1))\n"
   ]
  },
  {
   "attachments": {},
   "cell_type": "markdown",
   "metadata": {},
   "source": [
    "***\n",
    "\n",
    "## Adding straight lines\n",
    "\n",
    "Quite often, we want to add horizontal or vertical lines to highlight a particular value. We can do this using the following functions:\n",
    "\n",
    "- [`axhline()`](https://matplotlib.org/stable/api/_as_gen/matplotlib.pyplot.axhline.html) adds a *horizontal* line at a given $y$-value.\n",
    "- [`axvline()`](https://matplotlib.org/stable/api/_as_gen/matplotlib.pyplot.axvline.html) adds a *vertical* line at a given $x$-value.\n",
    "- [`axline()`](https://matplotlib.org/stable/api/_as_gen/matplotlib.pyplot.axline.html#matplotlib.pyplot.axline) adds a line defined by two points or by a single point and a slope."
   ]
  },
  {
   "attachments": {},
   "cell_type": "markdown",
   "metadata": {},
   "source": [
    "*Example: Adding horizontal and vertical lines*\n",
    "\n",
    "Consider the sine function from above. We can add a horizontal line at 0 and two vertical lines at the points where the function attains its minimum and maximum as follows:"
   ]
  },
  {
   "cell_type": "code",
   "execution_count": null,
   "metadata": {},
   "outputs": [],
   "source": [
    "import matplotlib.pyplot as plt\n",
    "import numpy as np\n",
    "\n",
    "# Plot sine function (same as above)\n",
    "xvalues = np.linspace(0.0, 2*np.pi, 50)\n",
    "plt.plot(xvalues, np.sin(xvalues))\n",
    "\n",
    "# Set major ticks and labels for x-axis\n",
    "plt.xticks([0.0, np.pi, 2*np.pi], ['0', r'$\\pi$', r'$2\\pi$'])\n",
    "# Set major ticks for y-axis\n",
    "plt.yticks([-1.0, 0.0, 1.0])\n",
    "\n",
    "# Add black dashed horizontal line at y-value 0\n",
    "plt.axhline(0.0, lw=0.5, ls='--', c='black')\n",
    "\n",
    "# Add red dashed vertical lines at maximum / minimum points\n",
    "plt.axvline(0.5*np.pi, lw=0.5, ls='--', c='red')\n",
    "plt.axvline(1.5*np.pi, lw=0.5, ls='--', c='red')"
   ]
  },
  {
   "attachments": {},
   "cell_type": "markdown",
   "metadata": {},
   "source": [
    "***\n",
    "## Object-oriented interface\n",
    "\n",
    "So far, we have only used the so-called `pyplot` interface which involves\n",
    "calling *global* plotting functions from `matplotlib.pyplot`.\n",
    "This interface is intended to be similar to Matlab, but is also somewhat\n",
    "limited and less clean.\n",
    "\n",
    "We can instead use the object-oriented interface\n",
    "(called this way because we call methods of the \n",
    "[`Figure`](https://matplotlib.org/stable/api/figure_api.html) and \n",
    "[`Axes`](https://matplotlib.org/stable/api/axes_api.html) objects).\n",
    "While there is not much point in using the object-oriented interface\n",
    "in a Jupyter notebook when we want to create a single graph, it should be the preferred method when\n",
    "writing re-usable code in Python files or when creating a figure with multiple subplots.\n",
    "\n",
    "To use the object-oriented interface, we need to get figure and\n",
    "axes objects. The easiest way to accomplish this is using\n",
    "the [`subplots()`](https://matplotlib.org/stable/api/_as_gen/matplotlib.pyplot.subplots.html) function, like this:\n",
    "\n",
    "```python\n",
    "fig, ax = plt.subplots()\n",
    "```\n",
    "\n",
    "We then use methods of the `Axes` object returned by `subplots()` instead of the \n",
    "functions we have used so far. For example, instead of \n",
    "[`plot()`](https://matplotlib.org/stable/api/_as_gen/matplotlib.pyplot.plot.html), \n",
    "we use the [`Axes.plot()`](https://matplotlib.org/stable/api/_as_gen/matplotlib.axes.Axes.plot.html) \n",
    "method.\n",
    "\n",
    "As an example, we recreate the graph from the section on\n",
    "labels and annotations using the object-oriented interface:"
   ]
  },
  {
   "cell_type": "code",
   "execution_count": null,
   "metadata": {
    "pycharm": {
     "name": "#%%\n"
    }
   },
   "outputs": [],
   "source": [
    "import matplotlib.pyplot as plt\n",
    "\n",
    "xvalues = [0, 1, 2, 3]\n",
    "yvalues = [1, 4, 2, 3]\n",
    "yvalues2 = [2.0, 1.0, 3.0, 0.0]\n",
    "\n",
    "fig, ax = plt.subplots()\n",
    "ax.plot(xvalues, yvalues, color='red', label='Red line')\n",
    "ax.plot(xvalues, yvalues2, color='blue', label='Blue line')\n",
    "ax.set_xlabel('Label for x-axis')\n",
    "ax.set_ylabel('Label for y-axis')\n",
    "ax.legend()\n",
    "ax.set_title('Plot with object-oriented interface')\n",
    "ax.text(0.05, 0.05, 'More text')\n"
   ]
  },
  {
   "attachments": {},
   "cell_type": "markdown",
   "metadata": {
    "pycharm": {
     "name": "#%% md\n"
    }
   },
   "source": [
    "The code is quite similar to the previous section, except that attributes are set using\n",
    "the `set_xxx()` methods of the `ax` object. For example,\n",
    "instead of calling `xlim()`, we use \n",
    "[`ax.set_xlim()`](https://matplotlib.org/stable/api/_as_gen/matplotlib.axes.Axes.set_xlim.html)."
   ]
  },
  {
   "attachments": {},
   "cell_type": "markdown",
   "metadata": {
    "pycharm": {
     "name": "#%% md\n"
    }
   },
   "source": [
    "***\n",
    "## Working with multiple plots (axes)\n",
    "\n",
    "The object-oriented interface becomes particularly useful\n",
    "if we want to create multiple axes (or figures). This can also be achieved\n",
    "using the `pyplot` programming model but is somewhat more obscure.\n",
    "\n",
    "For example, to create a row with two subplots, we use:"
   ]
  },
  {
   "cell_type": "code",
   "execution_count": null,
   "metadata": {},
   "outputs": [],
   "source": [
    "import matplotlib.pyplot as plt\n",
    "\n",
    "# Create one figure with 2 axes objects, arranged as two columns in a single row\n",
    "fig, axes = plt.subplots(1, 2, figsize=(4.5, 2.0))"
   ]
  },
  {
   "attachments": {},
   "cell_type": "markdown",
   "metadata": {},
   "source": [
    "With multiple axes objects in a single figure (as in the above example), the `axes` returned\n",
    "by `subplots()` is a NumPy array. Its elements\n",
    "map to the individual panels within the figure in a natural way.\n",
    "\n",
    "We can visualise this mapping for the case of a single row\n",
    "and two columns as follows:"
   ]
  },
  {
   "cell_type": "code",
   "execution_count": null,
   "metadata": {},
   "outputs": [],
   "source": [
    "fig, axes = plt.subplots(1, 2, figsize=(3.5,1.5))\n",
    "\n",
    "for i, ax in enumerate(axes):\n",
    "    # Turn off ticks of both axes\n",
    "    ax.set_xticks(())\n",
    "    ax.set_yticks(())\n",
    "    # Label axes object\n",
    "    text = f'axes[{i}]'\n",
    "    ax.text(0.5, 0.5, text, va='center', ha='center', fontsize=18)"
   ]
  },
  {
   "attachments": {},
   "cell_type": "markdown",
   "metadata": {},
   "source": [
    "Don't worry about the details of how this graph is generated, the only take-away here is\n",
    "how axes objects are mapped to the panels in the figure.\n",
    "\n",
    "If we request panels in two dimensions, the `axes` object will be a 2-dimensional\n",
    "array, and the mapping of axes objects to panels will look like this instead:"
   ]
  },
  {
   "cell_type": "code",
   "execution_count": null,
   "metadata": {},
   "outputs": [],
   "source": [
    "# Create figure with 2 rows, 3 columns\n",
    "nrow = 2\n",
    "ncol = 3\n",
    "fig, axes = plt.subplots(nrow, ncol, figsize=(6,4))\n",
    "\n",
    "for i in range(nrow):\n",
    "    for j in range(ncol):\n",
    "        # Get reference to current Axes object\n",
    "        ax = axes[i, j]\n",
    "        # Turn off ticks of both axes\n",
    "        ax.set_xticks(())\n",
    "        ax.set_yticks(())\n",
    "        # Label axes object\n",
    "        text = f'axes[{i},{j}]'\n",
    "        ax.text(0.5, 0.5, text, va='center', ha='center', fontsize=18)"
   ]
  },
  {
   "attachments": {},
   "cell_type": "markdown",
   "metadata": {},
   "source": [
    "*Example: Create a plot with 2 panels*\n",
    "\n",
    "We can use the elements of `axes` to plot into individual panels:"
   ]
  },
  {
   "cell_type": "code",
   "execution_count": null,
   "metadata": {
    "pycharm": {
     "name": "#%%\n"
    }
   },
   "outputs": [],
   "source": [
    "import matplotlib.pyplot as plt\n",
    "import numpy as np\n",
    "\n",
    "fig, axes = plt.subplots(1, 2, sharex=True, sharey=True, figsize=(4.5, 2.0))\n",
    "xvalues = np.linspace(-1.0, 1.0, 50)\n",
    "\n",
    "# Plot into first column\n",
    "axes[0].plot(xvalues, xvalues)\n",
    "\n",
    "# Plot into second column\n",
    "axes[1].plot(xvalues, 2*xvalues**2.0 - 1)"
   ]
  },
  {
   "attachments": {},
   "cell_type": "markdown",
   "metadata": {
    "pycharm": {
     "name": "#%% md\n"
    }
   },
   "source": [
    "*Example: Create a figure with 2 rows and 2 columns*"
   ]
  },
  {
   "cell_type": "code",
   "execution_count": null,
   "metadata": {
    "pycharm": {
     "name": "#%%\n"
    }
   },
   "outputs": [],
   "source": [
    "# create figure with 2 rows, 2 columns\n",
    "nrow = 2\n",
    "ncol = 2\n",
    "fig, axes = plt.subplots(nrow, ncol, sharex=True, sharey=True)\n",
    "\n",
    "xvalues = np.linspace(-1.0, 1.0, 50)\n",
    "\n",
    "# Plot the first four powers of x\n",
    "exponent = 1\n",
    "for i in range(nrow):\n",
    "    for j in range(ncol):\n",
    "        yvalues = xvalues**exponent\n",
    "        axes[i,j].plot(xvalues, yvalues)\n",
    "        # Increment exponent for next subplot\n",
    "        exponent += 1"
   ]
  },
  {
   "attachments": {},
   "cell_type": "markdown",
   "metadata": {
    "pycharm": {
     "name": "#%% md\n"
    }
   },
   "source": [
    "Note the use of `sharex=True` and `sharey=True`. This tells\n",
    "Matplotlib that all axes share the same plot limits, so the\n",
    "tick labels can be omitted in the figure's interior to\n",
    "preserve space."
   ]
  },
  {
   "cell_type": "markdown",
   "metadata": {},
   "source": [
    "<div class=\"alert alert-info\">\n",
    "<h3> Your turn</h3>\n",
    "Create a figure with 3 columns (on a single row) and plot the following functions\n",
    "on the interval [0, 6]:\n",
    "<ol>\n",
    "    <li>Subplot 1: <i>y = sin(x)</i></li>\n",
    "    <li>Subplot 2: <i>y = sin(2*x)</i></li>\n",
    "    <li>Subplot 3: <i>y = sin(4*x)</i></li>\n",
    "</ol>\n",
    "\n",
    "<i>Hint:</i> The sine function can be imported from NumPy as <TT>np.sin()</T>.\n",
    "</div>"
   ]
  },
  {
   "cell_type": "markdown",
   "metadata": {},
   "source": [
    "***\n",
    "# Plotting with pandas\n",
    "\n",
    "Pandas does not implement its own graphics library, but provides convenient wrappers around Matplotlib functions that can be used to quickly visualize data stored in DataFrames. Alternatively, we can extract the numerical data and pass it to Matplotlib's routines manually."
   ]
  },
  {
   "cell_type": "markdown",
   "metadata": {},
   "source": [
    "## Bar charts\n",
    "\n",
    "Let's return to our municipality population data.\n",
    "To plot population numbers as a bar chart, we can directly use pandas's\n",
    "[`plot.bar()`](https://pandas.pydata.org/docs/reference/api/pandas.DataFrame.plot.bar.html):"
   ]
  },
  {
   "cell_type": "code",
   "execution_count": null,
   "metadata": {},
   "outputs": [],
   "source": [
    "import pandas as pd \n",
    "\n",
    "# Path to local data/ folder\n",
    "DATA_PATH = '../../data'\n",
    "\n",
    "# Path to population data\n",
    "filepath = f'{DATA_PATH}/population_norway.csv'\n",
    "\n",
    "# Read in population data for Norwegian municipalities\n",
    "df = pd.read_csv(filepath)\n",
    "\n",
    "# Keep only the first 15 observations\n",
    "df = df.iloc[:15]\n",
    "\n",
    "# Create bar chart, specify figure size, rotate x-axis tick labels by 45 degrees\n",
    "df.plot.bar(x='Municipality', y='Population', rot=45, figsize=(6,3))"
   ]
  },
  {
   "cell_type": "markdown",
   "metadata": {},
   "source": [
    "Alternatively, we can construct the graph ourselves using Matplotlib:"
   ]
  },
  {
   "cell_type": "code",
   "execution_count": null,
   "metadata": {},
   "outputs": [],
   "source": [
    "import matplotlib.pyplot as plt\n",
    "\n",
    "# Extract municipality names\n",
    "labels = df['Municipality']\n",
    "\n",
    "# Extract population numbers\n",
    "values = df['Population']\n",
    "\n",
    "# Create new figure with desired size\n",
    "plt.figure(figsize=(6, 3))\n",
    "\n",
    "# Create bar chart\n",
    "plt.bar(labels, values)\n",
    "\n",
    "# Add legend\n",
    "plt.legend(['Population'])\n",
    "\n",
    "# Rotate tick labels by 45 degrees\n",
    "plt.tick_params(axis='x', labelrotation=45)"
   ]
  },
  {
   "cell_type": "markdown",
   "metadata": {},
   "source": [
    "Matplotlib's functions usually directly work with pandas's data structures,\n",
    "In cases where they don't, we can convert a `DataFrame` or `Series` object\n",
    "to a NumPy array using the \n",
    "[`to_numpy()`](https://pandas.pydata.org/docs/reference/api/pandas.DataFrame.to_numpy.html) \n",
    "method."
   ]
  },
  {
   "cell_type": "markdown",
   "metadata": {},
   "source": [
    "***\n",
    "## Plotting time series data\n",
    "\n",
    "To plot time series data, we can use the \n",
    "[`DataFrame.plot()`](https://pandas.pydata.org/docs/reference/api/pandas.DataFrame.plot.html) \n",
    "method which optionally accepts arguments to specify which columns\n",
    "should be used for the $x$-axis and which for the $y$-axis. We illustrate\n",
    "this using the US unemployment rate at annual frequency."
   ]
  },
  {
   "cell_type": "code",
   "execution_count": null,
   "metadata": {},
   "outputs": [],
   "source": [
    "import numpy as np\n",
    "import pandas as pd\n",
    "\n",
    "# Path to FRED data; DATA_PATH variable was defined above!\n",
    "filepath = f'{DATA_PATH}/FRED/FRED_annual.csv'\n",
    "\n",
    "# Read CSV data\n",
    "df = pd.read_csv(filepath, sep=',')\n",
    "\n",
    "# Plot unemployment rate by year\n",
    "df.plot(x='Year', y='UNRATE', ylabel='Unemployment rate (%)')"
   ]
  },
  {
   "cell_type": "markdown",
   "metadata": {},
   "source": [
    "<div class=\"alert alert-info\">\n",
    "<h3> Your turn</h3>\n",
    "Use the data files located in the folder <TT>../../data/FRED</TT> to perform the following tasks:\n",
    "<ol>\n",
    "    <li>Load the macroeconomic time series data from <TT>FRED_monthly_all.csv</TT>.\n",
    "        <br/>\n",
    "        <i>Hint:</i> Use <TT>pd.read_csv(..., parse_dates=['DATE'], index_col='DATE')</TT> to automatically parse strings stored in the <TT>DATE</TT> column as dates and set <TT>DATE</TT> as the index.\n",
    "        </li>\n",
    "    <li>Create a line plot, showing both the unemployment rate <TT>UNRATE</TT>\n",
    "        and the inflation rate <TT>INFLATION</TT> in a single graph.\n",
    "    </li>\n",
    "</ol>\n",
    "</div>"
   ]
  },
  {
   "cell_type": "markdown",
   "metadata": {},
   "source": [
    "***\n",
    "## Scatter plots\n",
    "\n",
    "Using the [`DataFrame.plot.scatter()`](https://pandas.pydata.org/docs/reference/api/pandas.DataFrame.plot.scatter.html) method, \n",
    "we can generate scatter plots, plotting one column\n",
    "against another. To illustrate, we plot the US unemployment rate against\n",
    "inflation in any given year over the post-war period.\n",
    "\n",
    "Note that you can pass additional arguments (for example `edgecolors`) to pandas's version of `scatter()` which are passed on to Matplotlib's \n",
    "[`scatter()`](https://matplotlib.org/stable/api/_as_gen/matplotlib.axes.Axes.scatter.html)."
   ]
  },
  {
   "cell_type": "code",
   "execution_count": null,
   "metadata": {},
   "outputs": [],
   "source": [
    "# Path to FRED.csv; DATA_PATH variable was defined above!\n",
    "filepath = f'{DATA_PATH}/FRED/FRED_annual.csv'\n",
    "\n",
    "# Read CSV data\n",
    "df = pd.read_csv(filepath, sep=',')\n",
    "\n",
    "df.plot.scatter(\n",
    "    x='UNRATE',                     # plot unemployment rate on x-axis\n",
    "    y='INFLATION',                  # plot inflation rate on y-axis\n",
    "    color='none', \n",
    "    edgecolors='steelblue',\n",
    "    xlabel='Unemployment rate (%)',\n",
    "    ylabel='Inflation (%)'\n",
    ")"
   ]
  },
  {
   "cell_type": "markdown",
   "metadata": {},
   "source": [
    "Pandas also offers the convenience function \n",
    "[`scatter_matrix()`](https://pandas.pydata.org/docs/reference/api/pandas.plotting.scatter_matrix.html)\n",
    "which lets us easily create pairwise scatter plots for more than two variables:"
   ]
  },
  {
   "cell_type": "code",
   "execution_count": null,
   "metadata": {},
   "outputs": [],
   "source": [
    "from pandas.plotting import scatter_matrix\n",
    "\n",
    "# Columns to include in plot\n",
    "columns = ['UNRATE', 'INFLATION', 'FEDFUNDS']\n",
    "\n",
    "# Use argument diagonal='kde' to plot kernel density estimate\n",
    "# in diagonal panels\n",
    "ax = scatter_matrix(\n",
    "    df[columns], \n",
    "    figsize=(6, 6),\n",
    "    diagonal='kde',             # plot kernel density along diagonal\n",
    "    s=70,                       # marker size\n",
    "    color='none', \n",
    "    edgecolors='steelblue', \n",
    "    alpha=1.0, \n",
    ")\n"
   ]
  },
  {
   "cell_type": "markdown",
   "metadata": {},
   "source": [
    "***\n",
    "## Box plots\n",
    "\n",
    "To quickly plot some descriptive statistics, we can use the \n",
    "[`DataFrame.plot.box()`](https://pandas.pydata.org/docs/reference/api/pandas.DataFrame.plot.box.html)\n",
    "provided by pandas. This plot shows the median, the interquartile range (25th to 75th percentile)\n",
    "and the outliers of some underlying data.\n",
    "\n",
    "We demonstrate this by plotting the distribution\n",
    "of the unemployment rate, inflation and the Federal Funds Rate in the US:"
   ]
  },
  {
   "cell_type": "code",
   "execution_count": null,
   "metadata": {},
   "outputs": [],
   "source": [
    "import numpy as np\n",
    "import pandas as pd\n",
    "\n",
    "# Path to FRED data; DATA_PATH variable was defined above!\n",
    "filepath = f'{DATA_PATH}/FRED/FRED_annual.csv'\n",
    "\n",
    "# Read CSV data\n",
    "df = pd.read_csv(filepath, sep=',')\n",
    "\n",
    "# Include only the following columns in plot\n",
    "columns = ['UNRATE', 'INFLATION', 'FEDFUNDS']\n",
    "\n",
    "# Create box plot. Alternatively, use df.plot(kind='box')\n",
    "df[columns].plot.box(ylabel='Relative change in % (annual)')"
   ]
  }
 ],
 "metadata": {
  "kernelspec": {
   "display_name": "TECH2",
   "language": "python",
   "name": "python3"
  },
  "language_info": {
   "codemirror_mode": {
    "name": "ipython",
    "version": 3
   },
   "file_extension": ".py",
   "mimetype": "text/x-python",
   "name": "python",
   "nbconvert_exporter": "python",
   "pygments_lexer": "ipython3",
   "version": "3.13.5"
  }
 },
 "nbformat": 4,
 "nbformat_minor": 1
}
