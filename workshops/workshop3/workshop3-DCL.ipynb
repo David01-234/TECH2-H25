{
 "cells": [
  {
   "cell_type": "markdown",
   "metadata": {},
   "source": [
    "# Exercise 1: Plotting functions\n",
    "\n",
    "Consider the following function in one variable $x$, \n",
    "$$\n",
    "f(x) = \\sin(20 x) + 5 x^2\n",
    "$$\n",
    "which is the sum of the sine function and a quadratic function.\n",
    "\n",
    "Perform the following tasks:\n",
    "\n",
    "1.  Define a Python function that returns the function value $f(x)$ for some \n",
    "    argument $x$. The function should work with both scalar numbers and \n",
    "    NumPy arrays.\n",
    "\n",
    "    *Hint:* The sine function is implemented in \n",
    "    [`np.sin()`](https://numpy.org/doc/stable/reference/generated/numpy.sin.html).\n",
    "\n",
    "2.  Evaluate the function on a uniformly spaced grid of $x$-values\n",
    "    on the interval $[-1, 1]$ using 51 grid points.\n",
    "\n",
    "    Create a plot depicting the function on this interval. Set the\n",
    "    $x$-ticks to the values $[-1, 0, 1]$ and add a legend.\n",
    "\n",
    "3.  Locate the point $x_{min}$ where the function attains its minimum on the grid \n",
    "    you created and print the values $(x_{min}, f(x_{min}))$.\n",
    "\n",
    "    *Hint:* You can use the NumPy function \n",
    "    [`np.argmin()`](https://numpy.org/doc/stable/reference/generated/numpy.argmin.html) for this.\n",
    "\n",
    "4.  Augment the plot you created earlier with a horizontal and vertical\n",
    "    line indicating where the minimum is located. Add a black dot at the point $(x_{min}, f(x_{min}))$.\n",
    "\n",
    "    *Hint:* Horizontal and vertical lines can be added with \n",
    "    [`axhline()`](https://matplotlib.org/stable/api/_as_gen/matplotlib.pyplot.axhline.html)\n",
    "    and \n",
    "    [`axvline()`](https://matplotlib.org/stable/api/_as_gen/matplotlib.pyplot.axvline.html).\n",
    "    A single dot can be added in various ways, e.g., using \n",
    "    [`scatter()`](https://matplotlib.org/stable/api/_as_gen/matplotlib.pyplot.scatter.html).\n",
    "\n",
    "5.  Repeat the exercise but now use $N=501$ grid points to evaluate the function."
   ]
  },
  {
   "cell_type": "code",
   "execution_count": null,
   "metadata": {},
   "outputs": [],
   "source": [
    "import numpy as np\n",
    "import matplotlib.pyplot as plt\n",
    "def f(x):\n",
    "    x = np.sin(20*x) + 5*x**2\n",
    "    return x\n"
   ]
  },
  {
   "cell_type": "code",
   "execution_count": 21,
   "metadata": {},
   "outputs": [],
   "source": [
    "N = 51\n",
    "xvalues = np.linspace(-1,1, N)\n",
    "yvalues = f(xvalues)"
   ]
  },
  {
   "cell_type": "code",
   "execution_count": 25,
   "metadata": {},
   "outputs": [
    {
     "data": {
      "image/png": "[encoded data removed]",
      "text/plain": [
       "<Figure size 640x480 with 1 Axes>"
      ]
     },
     "metadata": {},
     "output_type": "display_data"
    }
   ],
   "source": [
    "plt.plot(xvalues,yvalues)\n",
    "xticks = [-1, 0, 1]"
   ]
  },
  {
   "cell_type": "markdown",
   "metadata": {},
   "source": [
    "***\n",
    "# Exercise 2: Visualizing US business cycles and recessions\n",
    "\n",
    "In this exercise you are asked to plot two main business cycle indicators, GDP growth and the unemployment rate, for the United States.\n",
    "\n",
    "1.  Load the data from the CSV file `FRED/FRED_quarterly.csv` located in the repository's `data` folder.\n",
    "\n",
    "    Familiarize yourself with the data by printing the columns present in the data set and the first 5 rows of data.\n",
    "\n",
    "    *Hint:* Use `pd.read_csv(..., parse_dates=['DATE'], index_col='DATE')` to automatically parse strings stored in the `DATE` column as dates and set `DATE` as the index.\n",
    "\n",
    "2.  Compute the quarterly GDP growth (i.e., the relative change of the column `GDP` vs. the previous quarter) in percent.\n",
    "\n",
    "    *Hint:* This can be achieved using the \n",
    "    [`pct_change()`](https://pandas.pydata.org/docs/reference/api/pandas.DataFrame.pct_change.html) method.\n",
    "\n",
    "3.  Create a figure with two subplots (arranged in 2 rows) which show the GDP growth and the unemployment rate.\n",
    "\n",
    "    *Hint:* You can construct the graph either using Matplotlib's plotting function or using \n",
    "    pandas's\n",
    "    [`DataFrame.plot`](https://pandas.pydata.org/docs/reference/api/pandas.DataFrame.plot.html).\n",
    "\n",
    "4.  You want to understand how the business cycle dynamics correspond to the official US recession dates\n",
    "    as determined by National Bureau of Economic Research (NBER), the agency tasked with dating business \n",
    "    cycles in the US.\n",
    "\n",
    "    Recessions are defined as periods after GDP peaked (the corresponding quarter is stored in the \n",
    "    `peak` column) until GDP started growing again (stored in the `trough` column). \n",
    "\n",
    "    1.  Load the business cycle dates from `NBER_cycle_dates.csv` located in the `data/` folder.\n",
    "\n",
    "        Drop all rows where the `peak` date starts before 1948.\n",
    "\n",
    "        *Hint:* Use `pd.read_csv(..., parse_dates=['peak', 'trough']` to automatically parse strings in the `peak` and `trough`\n",
    "        columns.\n",
    "\n",
    "    2.  Loop through all remaining business cycle peak dates and add a vertical line to\n",
    "        each of the two subplots for GDP growth and unemployment at each date. \n",
    "        These lines indicate quartes which were followed by a recession.\n",
    "\n",
    "    3.  Can you detect any patterns for GDP growth and the unemployment rate after each peak date?"
   ]
  },
  {
   "cell_type": "markdown",
   "metadata": {},
   "source": [
    "***\n",
    "# Exercise 3: Daily returns of US stock market indices\n",
    "\n",
    "In this exercise, we examine how the three major US stock market indices performed in 2024.\n",
    "Use the data in `indices.csv` from the folder `../../data/stockmarket` to solve the following tasks:\n",
    "\n",
    "1.  Load the CSV data and restrict the sample to the calendar year 2024. \n",
    "\n",
    "    *Hint:* The data is tab-separated, so you need to specify `sep='\\t'` when reading in the data.\n",
    "\n",
    "    *Hint:* You should use `pd.read_csv(..., parse_dates=['Date'])` to automatically parse strings stored in the `Date` column as dates.\n",
    "\n",
    "2.  The data comes in a \"long\" format where each date-ticker combination is stored in \n",
    "    a separate row. For the following analysis, the data needs to be reshaped such that each \n",
    "    ticker symbol is in its own column (\"wide\" format).\n",
    "\n",
    "    Use the [`pivot()`](https://pandas.pydata.org/docs/reference/api/pandas.DataFrame.pivot.html)\n",
    "    method to reshape the `DataFrame` into the desired form. Consult the \n",
    "    [user guide](https://pandas.pydata.org/docs/user_guide/reshaping.html#pivot-and-pivot-table)\n",
    "    to see a graphical illustration.\n",
    "\n",
    "    Your pivoted `DataFrame` should look as follows:\n",
    "    \n",
    "    |    Ticker\t |   DJIA    | NASDAQ  |  SP500 |\n",
    "    |------------|-----------|---------|--------|\n",
    "    | Date\t\t |           |\t       |        |\n",
    "    | 2024-01-02 |\t37715.0\t | 14765.9 | 4742.8 |\n",
    "    | 2024-01-03 |  37430.2\t | 14592.2 | 4704.8 |\n",
    "    \n",
    "3.  Create a line plot which shows the time series for each of the three ticker symbols in a single graph,\n",
    "    for example using [`DataFrame.plot()`](https://pandas.pydata.org/docs/reference/api/pandas.DataFrame.plot.html#pandas.DataFrame.plot).\n",
    "4.  The graph you just created is not very satisfactory as the three\n",
    "    indices are recorded on vastly different scales. Express each index\n",
    "    relative to its initial value in 2024 (so that all three start with the value\n",
    "    1.0) and recreate the previous graph with this normalized data.\n",
    "5.  Another way to check whether the three indices are co-moving is to compute and plot their daily returns.\n",
    "    For each index, compute the daily returns, i.e., the relative change vs. the previous closing price in percent (e.g., using \n",
    "    [`pct_change()`](https://pandas.pydata.org/docs/reference/api/pandas.DataFrame.pct_change.html)), \n",
    "    and plot the three time series of daily returns in a single graph.\n",
    "6.  The previous plots suggests that the three indices co-move a lot. \n",
    "    \n",
    "    1.  In order to quantify the strength of \n",
    "        this co-movement, compute the pairwise correlations of daily returns using \n",
    "        [`corr()`](https://pandas.pydata.org/docs/reference/api/pandas.DataFrame.corr.html).\n",
    "\n",
    "    2.  Create a figure with 3-by-3 subplots where each off-diagonal plot shows the \n",
    "        scatter plot for two of the indices.\n",
    "    \n",
    "        *Hint:* You can use the function [`scatter_matrix()`](https://pandas.pydata.org/docs/reference/api/pandas.plotting.scatter_matrix.html) to accomplish this task. Alternatively, you can create a figure with 3-by-3 subplots using Matplotlib's \n",
    "        [`subplots()`](https://matplotlib.org/stable/api/_as_gen/matplotlib.pyplot.subplots.html), iterate over all rows and columns and add a [`scatter()`](https://matplotlib.org/stable/api/_as_gen/matplotlib.pyplot.scatter.html) plot to each `axes` object.\n",
    "\n",
    "    3.  Add the correlation coefficient for each stockmarket index pair \n",
    "        as text to the corresponding subplot in the figure you created\n",
    "        (this can be done using [`text()`](https://matplotlib.org/stable/api/_as_gen/matplotlib.pyplot.text.html))."
   ]
  }
 ],
 "metadata": {
  "kernelspec": {
   "display_name": "TECH2",
   "language": "python",
   "name": "python3"
  },
  "language_info": {
   "codemirror_mode": {
    "name": "ipython",
    "version": 3
   },
   "file_extension": ".py",
   "mimetype": "text/x-python",
   "name": "python",
   "nbconvert_exporter": "python",
   "pygments_lexer": "ipython3",
   "version": "3.13.5"
  },
  "orig_nbformat": 4
 },
 "nbformat": 4,
 "nbformat_minor": 2
}
