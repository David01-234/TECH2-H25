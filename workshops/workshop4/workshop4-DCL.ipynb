{
 "cells": [
  {
   "cell_type": "markdown",
   "metadata": {},
   "source": [
    "# Exercise 1: House price levels and dispersion\n",
    "\n",
    "For this exercise, we're using data on around 3,000 observations of house prices and house characteristics from Ames, a small city in Iowa.\n",
    "\n",
    "1.  Load the Ames housing data set from `ames_houses.csv` located in the `data/` folder.\n",
    "\n",
    "    To familiarize yourself with the data, report the columns present in the DataFrame and \n",
    "    then restrict the data to the columns `SalePrice` and `Neighborhood`.\n",
    "    \n",
    "    Check that there are no observations with missing values in the final data set.\n",
    "\n",
    "2.  Compute the average house price (column `SalePrice`) by neighborhood (column `Neighborhood`). List the three most expensive neighborhoods, for example by using [`sort_values()`](https://pandas.pydata.org/docs/reference/api/pandas.DataFrame.sort_values.html).\n",
    "\n",
    "    Create a bar chart showing the average sale price for all neighborhoods in descending order.\n",
    "\n",
    "    *Hint:* You can create the bar chart by either using pandas's \n",
    "    [`DataFrame.plot.bar()`](https://pandas.pydata.org/docs/reference/api/pandas.DataFrame.plot.bar.html)\n",
    "    or Matplotlib's\n",
    "    [`bar()`](https://matplotlib.org/stable/api/_as_gen/matplotlib.pyplot.bar.html).\n",
    "\n",
    "3.  You want to quantify the price dispersion in each neighborhood. To this end, compute the standard deviation by neighborhood using [`std()`](https://pandas.pydata.org/docs/reference/api/pandas.DataFrame.std.html). Which are the three neighborhoods with the most dispersed prices?\n",
    "\n",
    "    Create a scatter plot with the average house price on the $x$-axes and the standard deviation on the $y$-axis.\n",
    "    Is there a relationship between the average house prices and their dispersion within neighborhood?\n",
    "\n",
    "    *Hint:* You can create the scatter plot by either using pandas's \n",
    "    [`DataFrame.plot.scatter()`](https://pandas.pydata.org/docs/reference/api/pandas.DataFrame.plot.scatter.html)\n",
    "    or Matplotlib's \n",
    "    [`scatter()`](https://matplotlib.org/stable/api/_as_gen/matplotlib.pyplot.scatter.html)."
   ]
  },
  {
   "cell_type": "code",
   "execution_count": null,
   "metadata": {},
   "outputs": [],
   "source": [
    "import pandas as pd\n",
    "DATA_PATH = '../../data'\n",
    "fn = f'{DATA_PATH}/ames_houses.csv'\n",
    "df = pd.read_csv(fn)\n",
    "df"
   ]
  },
  {
   "cell_type": "code",
   "execution_count": null,
   "metadata": {},
   "outputs": [],
   "source": [
    "df_subset = df[['SalePrice','Neighborhood']]\n",
    "missing_counts = df_subset.isnull().sum()\n",
    "print(missing_counts)\n",
    "#df_subset = df_subset.dropna()\n",
    "print(df_subset)"
   ]
  },
  {
   "cell_type": "code",
   "execution_count": null,
   "metadata": {},
   "outputs": [],
   "source": [
    "data = df_subset.groupby('Neighborhood')['SalePrice'].mean()\n"
   ]
  },
  {
   "cell_type": "code",
   "execution_count": null,
   "metadata": {},
   "outputs": [],
   "source": [
    "top3 = data.sort_values(ascending = False).head()\n",
    "plt.bar(top3.index,top3.values)\n",
    "plt.xlim(1,3)"
   ]
  },
  {
   "cell_type": "code",
   "execution_count": null,
   "metadata": {},
   "outputs": [],
   "source": [
    "import matplotlib.pyplot as plt\n",
    "plt.bar(data.index,data.values)\n",
    "_ = plt.xticks(rotation=90)\n",
    "plt.xlabel('Name of Neighborhoods')\n",
    "plt.ylabel('Average Price of Houses')\n",
    "plt.title('Ames Housing')"
   ]
  },
  {
   "cell_type": "code",
   "execution_count": null,
   "metadata": {},
   "outputs": [],
   "source": [
    "data1 = df_subset.groupby('Neighborhood')['SalePrice'].std()"
   ]
  },
  {
   "cell_type": "code",
   "execution_count": null,
   "metadata": {},
   "outputs": [],
   "source": [
    "plt.scatter(data1.index,data1.values)\n",
    "__ = plt.xticks(rotation=90)\n"
   ]
  },
  {
   "cell_type": "markdown",
   "metadata": {},
   "source": [
    "***\n",
    "# Exercise 2: Determinants of house prices\n",
    "\n",
    "For this exercise, we're using data on around 3,000 observations of house prices and house characteristics from Ames, a small city in Iowa,\n",
    "to understand how house prices vary with selected house characteristics.\n",
    "\n",
    "1.  Load the Ames housing data set from `ames_houses.csv` located in the `data/` folder, and keep only the\n",
    "    columns `SalePrice`, `LotArea`, `YearBuilt`, and `Bedrooms`.\n",
    "\n",
    "    Restrict your data set to houses with one or more bedrooms and a lot area of at least 100m².\n",
    "\n",
    "2.  Compute the average year in which a house was built (using the column `YearBuilt`). Create a new column `New` which takes on the value of 1 if the house was built after the average year of construction (_\"new\"_), and 0 otherwise (_\"old\"_). \n",
    "\n",
    "    What is the average year of construction within these two categories?\n",
    "\n",
    "3.  Create a new column `Rooms` which categorizes the number of `Bedrooms` into three groups: 1, 2, and 3 or more. You can create these categories using boolean indexing, [`np.where()`](https://numpy.org/doc/2.0/reference/generated/numpy.where.html), pandas's [`where()`](https://pandas.pydata.org/docs/reference/api/pandas.DataFrame.where.html), or some other way.\n",
    "\n",
    "4.  Compute the mean `SalePrice` within each group formed by `New` and `Rooms` (for a total of 6 different categories) using [`groupby()`](https://pandas.pydata.org/docs/reference/api/pandas.DataFrame.groupby.html).\n",
    "\n",
    "    What is the average price difference between an old house with 1 bedroom and a new house with 3+ bedrooms?\n",
    "\n",
    "5.  Create a figure with two subplots arranged in two columns. The left column should contain a bar chart showing\n",
    "    the average house price by number of bed rooms (1, 2, 3+) for _old_ houses, whereas the \n",
    "    right column should show the corresponding bars for _new_ houses."
   ]
  },
  {
   "cell_type": "code",
   "execution_count": 1,
   "metadata": {},
   "outputs": [],
   "source": [
    "import pandas as pd\n",
    "DATA_PATH = '../../data'\n",
    "fn = f'{DATA_PATH}/ames_houses.csv'\n",
    "df = pd.read_csv(fn)"
   ]
  },
  {
   "cell_type": "code",
   "execution_count": 2,
   "metadata": {},
   "outputs": [],
   "source": [
    "df_subset2 = df[['SalePrice', 'LotArea', 'YearBuilt', 'Bedrooms']]\n",
    "df_filtered = df_subset2[(df_subset2['Bedrooms'] >= 1) & (df_subset2['LotArea'] >= 100000)]"
   ]
  },
  {
   "cell_type": "code",
   "execution_count": 3,
   "metadata": {},
   "outputs": [
    {
     "name": "stdout",
     "output_type": "stream",
     "text": [
      "New\n",
      "0    1971.361121\n",
      "1    1971.000000\n",
      "Name: YearBuilt, dtype: float64\n"
     ]
    }
   ],
   "source": [
    "avg_yr = int(df['YearBuilt'].mean())\n",
    "df['New'] = (df['YearBuilt'] == avg_yr).astype(int)\n",
    "\n",
    "avg_yr_construction = df.groupby('New')['YearBuilt'].mean()\n",
    "print(avg_yr_construction)\n"
   ]
  },
  {
   "cell_type": "code",
   "execution_count": 57,
   "metadata": {},
   "outputs": [
    {
     "name": "stdout",
     "output_type": "stream",
     "text": [
      "   New  Rooms   SalePrice\n",
      "0    0    3.0  187.236543\n",
      "1    0    4.0  180.990909\n",
      "2    0    5.0  140.702083\n",
      "3    0    6.0  183.761905\n",
      "4    0    8.0   96.500000\n",
      "5    1    3.0  141.272414\n",
      "6    1    4.0  144.975000\n"
     ]
    }
   ],
   "source": [
    "import numpy as np\n",
    "df['Rooms'] = sorted(df['Bedrooms'].where(df['Bedrooms'] >= 3))\n",
    "grouped = df.groupby([\"New\",\"Rooms\"])[\"SalePrice\"].mean().reset_index()\n",
    "grouped = grouped.dropna()\n",
    "print(grouped)"
   ]
  },
  {
   "cell_type": "code",
   "execution_count": 75,
   "metadata": {},
   "outputs": [
    {
     "data": {
      "text/plain": [
       "Text(0.5, 0, 'Number of Bedrooms')"
      ]
     },
     "execution_count": 75,
     "metadata": {},
     "output_type": "execute_result"
    },
    {
     "data": {
      "image/png": "[encoded data removed]",
      "text/plain": [
       "<Figure size 1200x500 with 2 Axes>"
      ]
     },
     "metadata": {},
     "output_type": "display_data"
    }
   ],
   "source": [
    "old1 = grouped[grouped[\"New\"] == 0]\n",
    "new1 = grouped[grouped[\"New\"] == 1]\n",
    "\n",
    "fig, axes = plt.subplots(1,2, sharey=True, figsize = (12,5))\n",
    "\n",
    "axes[0].bar(old1['Rooms'].astype(str),old1['SalePrice'])\n",
    "axes[0].set_ylabel('Average of Price of Houses (In Thousands of USD)')\n",
    "axes[0].set_xlabel('Number of Bedrooms')\n",
    "axes[1].bar(new1['Rooms'].astype(str),new1['SalePrice'])\n",
    "axes[1].set_xlabel('Number of Bedrooms')\n"
   ]
  },
  {
   "cell_type": "code",
   "execution_count": 69,
   "metadata": {},
   "outputs": [
    {
     "name": "stdout",
     "output_type": "stream",
     "text": [
      "   New  Rooms   SalePrice\n",
      "0    0    1.0  183.016964\n",
      "1    0    2.0  162.610109\n",
      "2    0    3.0  187.827464\n",
      "3    1    2.0  132.754545\n",
      "4    1    3.0  143.442857\n"
     ]
    }
   ],
   "source": [
    "df['Rooms'] = np.where(df['Bedrooms'] == 1, 1,\n",
    "             np.where(df['Bedrooms'] == 2, 2,\n",
    "             np.where(df['Bedrooms'] >= 3, 3, np.nan)))\n",
    "group = df.groupby([\"New\",\"Rooms\"])[\"SalePrice\"].mean().reset_index()\n",
    "print(group)"
   ]
  },
  {
   "cell_type": "code",
   "execution_count": 70,
   "metadata": {},
   "outputs": [],
   "source": [
    "old = group[group['New'] == 0]\n",
    "new = group[group['New'] == 1]"
   ]
  },
  {
   "cell_type": "code",
   "execution_count": 76,
   "metadata": {},
   "outputs": [
    {
     "data": {
      "text/plain": [
       "Text(0.5, 0, 'Number of Bedrooms')"
      ]
     },
     "execution_count": 76,
     "metadata": {},
     "output_type": "execute_result"
    },
    {
     "data": {
      "image/png": "[encoded data removed]",
      "text/plain": [
       "<Figure size 1200x500 with 2 Axes>"
      ]
     },
     "metadata": {},
     "output_type": "display_data"
    }
   ],
   "source": [
    "import matplotlib.pyplot as plt\n",
    "\n",
    "fig, axes = plt.subplots(1, 2, sharey= True, figsize=(12,5))\n",
    "#fig, axes = plt.subplots(1, 2, sharey=True, figsize=(10, 5))\n",
    "\n",
    "axes[0].bar(old['Rooms'].astype(str),old['SalePrice'])\n",
    "axes[0].set_xlabel(\"Number of Bedrooms\")\n",
    "axes[0].set_ylabel(\"Average Sale Price (USD in Thousands)\")\n",
    "\n",
    "axes[1].bar(new['Rooms'].astype(str),new['SalePrice'])\n",
    "axes[1].set_xlabel('Number of Bedrooms')"
   ]
  },
  {
   "cell_type": "markdown",
   "metadata": {},
   "source": [
    "***\n",
    "# Exercise 3: Inflation and unemployment in the US\n",
    "\n",
    "In this exercise, you'll be working with selected macroeconomic variables for the United States reported at monthly frequency obtained from [FRED](https://fred.stlouisfed.org/).\n",
    "The data set starts in 1948 and contains observations for a total of 864 months.\n",
    "\n",
    "1.  Load the data from the file `FRED_monthly.csv` located in the `data/FRED` folder. Print the first 10 observations to get an idea how the data looks like.\n",
    "    \n",
    "    Keep only the columns `Year`, `Month`, `CPI`, and `UNRATE`. Moreover, perform this analysis only on observations prior to 1970 and drop the rest.\n",
    "\n",
    "2.  The column `CPI` stores the consumer price index for the US. You may be more familiar with the concept of inflation, which is the percent change of the CPI relative to the previous period. \n",
    "    Create a new column `Inflation` which contains the _annual_ inflation _in percent_ relative to the same month in the previous year by applying \n",
    "    [`pct_change()`](https://pandas.pydata.org/docs/reference/api/pandas.DataFrame.pct_change.html) to the column `CPI`.\n",
    "\n",
    "    *Hints:* \n",
    "    \n",
    "    -   Since this is monthly data, you need to pass the arguments `periods=12` to `pct_change()` to get annual percent changes.\n",
    "    -   You need to multiply the values returned by `pct_change()` by 100 to get percent values.\n",
    "\n",
    "3.  Compute the average unemployment rate (column `UNRATE`) over the whole sample period. Create a new column `UNRATE_HIGH` that contains an indicator whenever the unemployment rate is above its average value (_\"high unemployment period\"_). \n",
    "    -   How many observations fall into the high- and the low-unemployment periods?\n",
    "    -   What is the average unemployment rate in the high- and low-unemployment periods?\n",
    "\n",
    "4.  Compute the average inflation rate for high- and low-unemployment periods. Is there any difference?\n",
    "\n",
    "5.  Use [`resample()`](https://pandas.pydata.org/docs/reference/api/pandas.DataFrame.resample.html) to aggregate\n",
    "    the inflation data to annual frequency and compute the average inflation within each calendar year.\n",
    "\n",
    "    -   Report the three years with the highest inflation rates.\n",
    "    -   Create a plot that shows the average annual inflation over the sample period.\n",
    "\n",
    "    *Hint:* Use the resampling rule `'YE'` when calling `resample()`.\n"
   ]
  },
  {
   "cell_type": "code",
   "execution_count": null,
   "metadata": {},
   "outputs": [
    {
     "name": "stdout",
     "output_type": "stream",
     "text": [
      "<class 'pandas.core.frame.DataFrame'>\n",
      "RangeIndex: 924 entries, 0 to 923\n",
      "Data columns (total 8 columns):\n",
      " #   Column    Non-Null Count  Dtype  \n",
      "---  ------    --------------  -----  \n",
      " 0   DATE      924 non-null    object \n",
      " 1   Year      924 non-null    int64  \n",
      " 2   Month     924 non-null    int64  \n",
      " 3   CPI       924 non-null    float64\n",
      " 4   UNRATE    924 non-null    float64\n",
      " 5   FEDFUNDS  846 non-null    float64\n",
      " 6   REALRATE  516 non-null    float64\n",
      " 7   LFPART    924 non-null    float64\n",
      "dtypes: float64(5), int64(2), object(1)\n",
      "memory usage: 57.9+ KB\n"
     ]
    }
   ],
   "source": [
    "fn = f'{DATA_PATH}/FRED/FRED_monthly.csv'\n",
    "US = pd.read_csv(fn)"
   ]
  },
  {
   "cell_type": "code",
   "execution_count": 100,
   "metadata": {},
   "outputs": [],
   "source": [
    "US_subset = US[['Year','Month','CPI','UNRATE']]\n",
    "US_subset = US_subset[US_subset['Year'] < 1970]"
   ]
  },
  {
   "cell_type": "code",
   "execution_count": 109,
   "metadata": {},
   "outputs": [
    {
     "data": {
      "text/plain": [
       "0           NaN\n",
       "1           NaN\n",
       "2           NaN\n",
       "3           NaN\n",
       "4           NaN\n",
       "         ...   \n",
       "259    5.428571\n",
       "260    5.698006\n",
       "261    5.665722\n",
       "262    5.932203\n",
       "263    5.898876\n",
       "Name: Inflation, Length: 264, dtype: float64"
      ]
     },
     "execution_count": 109,
     "metadata": {},
     "output_type": "execute_result"
    }
   ],
   "source": [
    "US_subset['Inflation'] = US_subset['CPI'].pct_change(periods=12) * 100\n",
    "\n",
    "#US_subset['Inflation'] = US_subset['Inflation'].dropna()\n",
    "\n",
    "US_subset['Inflation']"
   ]
  },
  {
   "cell_type": "code",
   "execution_count": null,
   "metadata": {},
   "outputs": [],
   "source": [
    "US_UNRATE_AVG = US_subset['UNRATE'].mean()\n",
    "US_subset['UNRATE_HIGH'] = (US_subset['UNRATE'] > US_UNRATE_AVG).astype(int)\n",
    "US_subset['UNRATE_LOW'] = (US_subset['UNRATE'] <= US_UNRATE_AVG).astype(int)\n",
    "\n",
    "High_Inflation_Rate = US_subset['UNRATE_HIGH'].sum()\n",
    "Low_Inflation_Rate = US_subset['UNRATE_LOW'].sum()\n",
    "\n",
    "High_AVG = US_subset.loc[US_subset['UNRATE_HIGH'] == 1, 'UNRATE'].mean()\n",
    "Low_AVG = US_subset.loc[US_subset['UNRATE_LOW'] == 1, 'UNRATE'].mean()\n"
   ]
  },
  {
   "cell_type": "code",
   "execution_count": null,
   "metadata": {},
   "outputs": [],
   "source": [
    "High_Inflation_AVG = US_subset.loc[US_subset['UNRATE_HIGH'] == 1, 'Inflation'].mean()\n",
    "Low_Inflation_AVG = US_subset.loc[US_subset['UNRATE_LOW'] == 1, 'Inflation'].mean()\n"
   ]
  },
  {
   "cell_type": "code",
   "execution_count": 135,
   "metadata": {},
   "outputs": [
    {
     "data": {
      "text/html": [
       "<div>\n",
       "<style scoped>\n",
       "    .dataframe tbody tr th:only-of-type {\n",
       "        vertical-align: middle;\n",
       "    }\n",
       "\n",
       "    .dataframe tbody tr th {\n",
       "        vertical-align: top;\n",
       "    }\n",
       "\n",
       "    .dataframe thead th {\n",
       "        text-align: right;\n",
       "    }\n",
       "</style>\n",
       "<table border=\"1\" class=\"dataframe\">\n",
       "  <thead>\n",
       "    <tr style=\"text-align: right;\">\n",
       "      <th></th>\n",
       "      <th>Year</th>\n",
       "      <th>Month</th>\n",
       "      <th>CPI</th>\n",
       "      <th>UNRATE</th>\n",
       "      <th>Inflation</th>\n",
       "      <th>UNRATE_HIGH</th>\n",
       "      <th>UNRATE_LOW</th>\n",
       "    </tr>\n",
       "    <tr>\n",
       "      <th>Date</th>\n",
       "      <th></th>\n",
       "      <th></th>\n",
       "      <th></th>\n",
       "      <th></th>\n",
       "      <th></th>\n",
       "      <th></th>\n",
       "      <th></th>\n",
       "    </tr>\n",
       "  </thead>\n",
       "  <tbody>\n",
       "    <tr>\n",
       "      <th>1948-01-01</th>\n",
       "      <td>1948</td>\n",
       "      <td>1</td>\n",
       "      <td>23.7</td>\n",
       "      <td>3.4</td>\n",
       "      <td>NaN</td>\n",
       "      <td>0</td>\n",
       "      <td>1</td>\n",
       "    </tr>\n",
       "    <tr>\n",
       "      <th>1948-02-01</th>\n",
       "      <td>1948</td>\n",
       "      <td>2</td>\n",
       "      <td>23.7</td>\n",
       "      <td>3.8</td>\n",
       "      <td>NaN</td>\n",
       "      <td>0</td>\n",
       "      <td>1</td>\n",
       "    </tr>\n",
       "    <tr>\n",
       "      <th>1948-03-01</th>\n",
       "      <td>1948</td>\n",
       "      <td>3</td>\n",
       "      <td>23.5</td>\n",
       "      <td>4.0</td>\n",
       "      <td>NaN</td>\n",
       "      <td>0</td>\n",
       "      <td>1</td>\n",
       "    </tr>\n",
       "    <tr>\n",
       "      <th>1948-04-01</th>\n",
       "      <td>1948</td>\n",
       "      <td>4</td>\n",
       "      <td>23.8</td>\n",
       "      <td>3.9</td>\n",
       "      <td>NaN</td>\n",
       "      <td>0</td>\n",
       "      <td>1</td>\n",
       "    </tr>\n",
       "    <tr>\n",
       "      <th>1948-05-01</th>\n",
       "      <td>1948</td>\n",
       "      <td>5</td>\n",
       "      <td>24.0</td>\n",
       "      <td>3.5</td>\n",
       "      <td>NaN</td>\n",
       "      <td>0</td>\n",
       "      <td>1</td>\n",
       "    </tr>\n",
       "    <tr>\n",
       "      <th>...</th>\n",
       "      <td>...</td>\n",
       "      <td>...</td>\n",
       "      <td>...</td>\n",
       "      <td>...</td>\n",
       "      <td>...</td>\n",
       "      <td>...</td>\n",
       "      <td>...</td>\n",
       "    </tr>\n",
       "    <tr>\n",
       "      <th>1969-08-01</th>\n",
       "      <td>1969</td>\n",
       "      <td>8</td>\n",
       "      <td>36.9</td>\n",
       "      <td>3.5</td>\n",
       "      <td>5.428571</td>\n",
       "      <td>0</td>\n",
       "      <td>1</td>\n",
       "    </tr>\n",
       "    <tr>\n",
       "      <th>1969-09-01</th>\n",
       "      <td>1969</td>\n",
       "      <td>9</td>\n",
       "      <td>37.1</td>\n",
       "      <td>3.7</td>\n",
       "      <td>5.698006</td>\n",
       "      <td>0</td>\n",
       "      <td>1</td>\n",
       "    </tr>\n",
       "    <tr>\n",
       "      <th>1969-10-01</th>\n",
       "      <td>1969</td>\n",
       "      <td>10</td>\n",
       "      <td>37.3</td>\n",
       "      <td>3.7</td>\n",
       "      <td>5.665722</td>\n",
       "      <td>0</td>\n",
       "      <td>1</td>\n",
       "    </tr>\n",
       "    <tr>\n",
       "      <th>1969-11-01</th>\n",
       "      <td>1969</td>\n",
       "      <td>11</td>\n",
       "      <td>37.5</td>\n",
       "      <td>3.5</td>\n",
       "      <td>5.932203</td>\n",
       "      <td>0</td>\n",
       "      <td>1</td>\n",
       "    </tr>\n",
       "    <tr>\n",
       "      <th>1969-12-01</th>\n",
       "      <td>1969</td>\n",
       "      <td>12</td>\n",
       "      <td>37.7</td>\n",
       "      <td>3.5</td>\n",
       "      <td>5.898876</td>\n",
       "      <td>0</td>\n",
       "      <td>1</td>\n",
       "    </tr>\n",
       "  </tbody>\n",
       "</table>\n",
       "<p>264 rows × 7 columns</p>\n",
       "</div>"
      ],
      "text/plain": [
       "            Year  Month   CPI  UNRATE  Inflation  UNRATE_HIGH  UNRATE_LOW\n",
       "Date                                                                     \n",
       "1948-01-01  1948      1  23.7     3.4        NaN            0           1\n",
       "1948-02-01  1948      2  23.7     3.8        NaN            0           1\n",
       "1948-03-01  1948      3  23.5     4.0        NaN            0           1\n",
       "1948-04-01  1948      4  23.8     3.9        NaN            0           1\n",
       "1948-05-01  1948      5  24.0     3.5        NaN            0           1\n",
       "...          ...    ...   ...     ...        ...          ...         ...\n",
       "1969-08-01  1969      8  36.9     3.5   5.428571            0           1\n",
       "1969-09-01  1969      9  37.1     3.7   5.698006            0           1\n",
       "1969-10-01  1969     10  37.3     3.7   5.665722            0           1\n",
       "1969-11-01  1969     11  37.5     3.5   5.932203            0           1\n",
       "1969-12-01  1969     12  37.7     3.5   5.898876            0           1\n",
       "\n",
       "[264 rows x 7 columns]"
      ]
     },
     "execution_count": 135,
     "metadata": {},
     "output_type": "execute_result"
    }
   ],
   "source": [
    "US_subset['Date'] = pd.to_datetime(US_subset[['Year','Month']].assign(DAY=1))\n",
    "US_subset.set_index('Date', inplace=True)\n",
    "US_subset"
   ]
  },
  {
   "cell_type": "code",
   "execution_count": null,
   "metadata": {},
   "outputs": [],
   "source": [
    "Annual_Inflation = US_subset['Inflation'].resample('YE').mean().dropna()\n",
    "\n",
    "top_3 = Annual_Inflation.sort_values(ascending=False).head(3)\n"
   ]
  },
  {
   "cell_type": "code",
   "execution_count": 162,
   "metadata": {},
   "outputs": [
    {
     "data": {
      "text/plain": [
       "Text(0.5, 0, 'Years')"
      ]
     },
     "execution_count": 162,
     "metadata": {},
     "output_type": "execute_result"
    },
    {
     "data": {
      "image/png": "[encoded data removed]",
      "text/plain": [
       "<Figure size 1000x500 with 1 Axes>"
      ]
     },
     "metadata": {},
     "output_type": "display_data"
    }
   ],
   "source": [
    "import matplotlib.pyplot as plt\n",
    "plt.figure(figsize=(10, 5))\n",
    "plt.plot(Annual_Inflation.index,Annual_Inflation.values, marker='o',markersize ='10', color = 'Red')\n",
    "plt.grid()\n",
    "plt.ylabel('Annual Inflation')\n",
    "plt.xlabel('Years')\n"
   ]
  },
  {
   "cell_type": "code",
   "execution_count": null,
   "metadata": {},
   "outputs": [],
   "source": [
    "Inflation"
   ]
  }
 ],
 "metadata": {
  "kernelspec": {
   "display_name": "TECH2",
   "language": "python",
   "name": "python3"
  },
  "language_info": {
   "codemirror_mode": {
    "name": "ipython",
    "version": 3
   },
   "file_extension": ".py",
   "mimetype": "text/x-python",
   "name": "python",
   "nbconvert_exporter": "python",
   "pygments_lexer": "ipython3",
   "version": "3.13.5"
  }
 },
 "nbformat": 4,
 "nbformat_minor": 2
}
