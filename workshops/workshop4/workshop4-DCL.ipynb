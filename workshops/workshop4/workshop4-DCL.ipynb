{
 "cells": [
  {
   "cell_type": "markdown",
   "metadata": {},
   "source": [
    "# Exercise 1: House price levels and dispersion\n",
    "\n",
    "For this exercise, we're using data on around 3,000 observations of house prices and house characteristics from Ames, a small city in Iowa.\n",
    "\n",
    "1.  Load the Ames housing data set from `ames_houses.csv` located in the `data/` folder.\n",
    "\n",
    "    To familiarize yourself with the data, report the columns present in the DataFrame and \n",
    "    then restrict the data to the columns `SalePrice` and `Neighborhood`.\n",
    "    \n",
    "    Check that there are no observations with missing values in the final data set.\n",
    "\n",
    "2.  Compute the average house price (column `SalePrice`) by neighborhood (column `Neighborhood`). List the three most expensive neighborhoods, for example by using [`sort_values()`](https://pandas.pydata.org/docs/reference/api/pandas.DataFrame.sort_values.html).\n",
    "\n",
    "    Create a bar chart showing the average sale price for all neighborhoods in descending order.\n",
    "\n",
    "    *Hint:* You can create the bar chart by either using pandas's \n",
    "    [`DataFrame.plot.bar()`](https://pandas.pydata.org/docs/reference/api/pandas.DataFrame.plot.bar.html)\n",
    "    or Matplotlib's\n",
    "    [`bar()`](https://matplotlib.org/stable/api/_as_gen/matplotlib.pyplot.bar.html).\n",
    "\n",
    "3.  You want to quantify the price dispersion in each neighborhood. To this end, compute the standard deviation by neighborhood using [`std()`](https://pandas.pydata.org/docs/reference/api/pandas.DataFrame.std.html). Which are the three neighborhoods with the most dispersed prices?\n",
    "\n",
    "    Create a scatter plot with the average house price on the $x$-axes and the standard deviation on the $y$-axis.\n",
    "    Is there a relationship between the average house prices and their dispersion within neighborhood?\n",
    "\n",
    "    *Hint:* You can create the scatter plot by either using pandas's \n",
    "    [`DataFrame.plot.scatter()`](https://pandas.pydata.org/docs/reference/api/pandas.DataFrame.plot.scatter.html)\n",
    "    or Matplotlib's \n",
    "    [`scatter()`](https://matplotlib.org/stable/api/_as_gen/matplotlib.pyplot.scatter.html)."
   ]
  },
  {
   "cell_type": "code",
   "execution_count": null,
   "metadata": {},
   "outputs": [],
   "source": [
    "import pandas as pd\n",
    "DATA_PATH = '../../data'\n",
    "fn = f'{DATA_PATH}/ames_houses.csv'\n",
    "df = pd.read_csv(fn)\n",
    "df"
   ]
  },
  {
   "cell_type": "code",
   "execution_count": null,
   "metadata": {},
   "outputs": [],
   "source": [
    "df_subset = df[['SalePrice','Neighborhood']]\n",
    "missing_counts = df_subset.isnull().sum()\n",
    "print(missing_counts)\n",
    "#df_subset = df_subset.dropna()\n",
    "print(df_subset)"
   ]
  },
  {
   "cell_type": "code",
   "execution_count": null,
   "metadata": {},
   "outputs": [],
   "source": [
    "data = df_subset.groupby('Neighborhood')['SalePrice'].mean()\n"
   ]
  },
  {
   "cell_type": "code",
   "execution_count": null,
   "metadata": {},
   "outputs": [],
   "source": [
    "top3 = data.sort_values(ascending = False).head()\n",
    "plt.bar(top3.index,top3.values)\n",
    "plt.xlim(1,3)"
   ]
  },
  {
   "cell_type": "code",
   "execution_count": null,
   "metadata": {},
   "outputs": [],
   "source": [
    "import matplotlib.pyplot as plt\n",
    "plt.bar(data.index,data.values)\n",
    "_ = plt.xticks(rotation=90)\n",
    "plt.xlabel('Name of Neighborhoods')\n",
    "plt.ylabel('Average Price of Houses')\n",
    "plt.title('Ames Housing')"
   ]
  },
  {
   "cell_type": "code",
   "execution_count": null,
   "metadata": {},
   "outputs": [],
   "source": [
    "data1 = df_subset.groupby('Neighborhood')['SalePrice'].std()"
   ]
  },
  {
   "cell_type": "code",
   "execution_count": null,
   "metadata": {},
   "outputs": [],
   "source": [
    "plt.scatter(data1.index,data1.values)\n",
    "__ = plt.xticks(rotation=90)\n"
   ]
  },
  {
   "cell_type": "markdown",
   "metadata": {},
   "source": [
    "***\n",
    "# Exercise 2: Determinants of house prices\n",
    "\n",
    "For this exercise, we're using data on around 3,000 observations of house prices and house characteristics from Ames, a small city in Iowa,\n",
    "to understand how house prices vary with selected house characteristics.\n",
    "\n",
    "1.  Load the Ames housing data set from `ames_houses.csv` located in the `data/` folder, and keep only the\n",
    "    columns `SalePrice`, `LotArea`, `YearBuilt`, and `Bedrooms`.\n",
    "\n",
    "    Restrict your data set to houses with one or more bedrooms and a lot area of at least 100m².\n",
    "\n",
    "2.  Compute the average year in which a house was built (using the column `YearBuilt`). Create a new column `New` which takes on the value of 1 if the house was built after the average year of construction (_\"new\"_), and 0 otherwise (_\"old\"_). \n",
    "\n",
    "    What is the average year of construction within these two categories?\n",
    "\n",
    "3.  Create a new column `Rooms` which categorizes the number of `Bedrooms` into three groups: 1, 2, and 3 or more. You can create these categories using boolean indexing, [`np.where()`](https://numpy.org/doc/2.0/reference/generated/numpy.where.html), pandas's [`where()`](https://pandas.pydata.org/docs/reference/api/pandas.DataFrame.where.html), or some other way.\n",
    "\n",
    "4.  Compute the mean `SalePrice` within each group formed by `New` and `Rooms` (for a total of 6 different categories) using [`groupby()`](https://pandas.pydata.org/docs/reference/api/pandas.DataFrame.groupby.html).\n",
    "\n",
    "    What is the average price difference between an old house with 1 bedroom and a new house with 3+ bedrooms?\n",
    "\n",
    "5.  Create a figure with two subplots arranged in two columns. The left column should contain a bar chart showing\n",
    "    the average house price by number of bed rooms (1, 2, 3+) for _old_ houses, whereas the \n",
    "    right column should show the corresponding bars for _new_ houses."
   ]
  },
  {
   "cell_type": "code",
   "execution_count": null,
   "metadata": {},
   "outputs": [],
   "source": [
    "import pandas as pd\n",
    "DATA_PATH = '../../data'\n",
    "fn = f'{DATA_PATH}/ames_houses.csv'\n",
    "df = pd.read_csv(fn)"
   ]
  },
  {
   "cell_type": "code",
   "execution_count": null,
   "metadata": {},
   "outputs": [],
   "source": [
    "df_subset2 = df[['SalePrice', 'LotArea', 'YearBuilt', 'Bedrooms']]\n",
    "df_filtered = df_subset2[(df_subset2['Bedrooms'] >= 1) & (df_subset2['LotArea'] >= 100000)]"
   ]
  },
  {
   "cell_type": "code",
   "execution_count": null,
   "metadata": {},
   "outputs": [],
   "source": [
    "avg_yr = int(df['YearBuilt'].mean())\n",
    "df['New'] = (df['YearBuilt'] == avg_yr).astype(int)\n",
    "\n",
    "avg_yr_construction = df.groupby('New')['YearBuilt'].mean()\n",
    "print(avg_yr_construction)\n"
   ]
  },
  {
   "cell_type": "code",
   "execution_count": null,
   "metadata": {},
   "outputs": [],
   "source": [
    "import numpy as np\n",
    "df['Rooms'] = df['Bedrooms'].where(df['Bedrooms'] > 3)\n",
    "df.groupby(['New','Rooms'])['SalePrice'].mean()"
   ]
  },
  {
   "cell_type": "code",
   "execution_count": 101,
   "metadata": {},
   "outputs": [
    {
     "data": {
      "text/plain": [
       "New  Rooms\n",
       "0    1.0      183.016964\n",
       "     2.0      162.610109\n",
       "     3.0      187.827464\n",
       "1    2.0      132.754545\n",
       "     3.0      143.442857\n",
       "Name: SalePrice, dtype: float64"
      ]
     },
     "execution_count": 101,
     "metadata": {},
     "output_type": "execute_result"
    }
   ],
   "source": [
    "df['Rooms'] = np.where(df['Bedrooms'] == 1, 1,\n",
    "             np.where(df['Bedrooms'] == 2, 2,\n",
    "             np.where(df['Bedrooms'] >= 3, 3, np.nan)))\n",
    "df.groupby(['New','Rooms'])['SalePrice'].mean()"
   ]
  },
  {
   "cell_type": "markdown",
   "metadata": {},
   "source": [
    "***\n",
    "# Exercise 3: Inflation and unemployment in the US\n",
    "\n",
    "In this exercise, you'll be working with selected macroeconomic variables for the United States reported at monthly frequency obtained from [FRED](https://fred.stlouisfed.org/).\n",
    "The data set starts in 1948 and contains observations for a total of 864 months.\n",
    "\n",
    "1.  Load the data from the file `FRED_monthly.csv` located in the `data/FRED` folder. Print the first 10 observations to get an idea how the data looks like.\n",
    "    \n",
    "    Keep only the columns `Year`, `Month`, `CPI`, and `UNRATE`. Moreover, perform this analysis only on observations prior to 1970 and drop the rest.\n",
    "\n",
    "2.  The column `CPI` stores the consumer price index for the US. You may be more familiar with the concept of inflation, which is the percent change of the CPI relative to the previous period. \n",
    "    Create a new column `Inflation` which contains the _annual_ inflation _in percent_ relative to the same month in the previous year by applying \n",
    "    [`pct_change()`](https://pandas.pydata.org/docs/reference/api/pandas.DataFrame.pct_change.html) to the column `CPI`.\n",
    "\n",
    "    *Hints:* \n",
    "    \n",
    "    -   Since this is monthly data, you need to pass the arguments `periods=12` to `pct_change()` to get annual percent changes.\n",
    "    -   You need to multiply the values returned by `pct_change()` by 100 to get percent values.\n",
    "\n",
    "3.  Compute the average unemployment rate (column `UNRATE`) over the whole sample period. Create a new column `UNRATE_HIGH` that contains an indicator whenever the unemployment rate is above its average value (_\"high unemployment period\"_). \n",
    "    -   How many observations fall into the high- and the low-unemployment periods?\n",
    "    -   What is the average unemployment rate in the high- and low-unemployment periods?\n",
    "\n",
    "4.  Compute the average inflation rate for high- and low-unemployment periods. Is there any difference?\n",
    "\n",
    "5.  Use [`resample()`](https://pandas.pydata.org/docs/reference/api/pandas.DataFrame.resample.html) to aggregate\n",
    "    the inflation data to annual frequency and compute the average inflation within each calendar year.\n",
    "\n",
    "    -   Report the three years with the highest inflation rates.\n",
    "    -   Create a plot that shows the average annual inflation over the sample period.\n",
    "\n",
    "    *Hint:* Use the resampling rule `'YE'` when calling `resample()`.\n"
   ]
  }
 ],
 "metadata": {
  "kernelspec": {
   "display_name": "TECH2",
   "language": "python",
   "name": "python3"
  },
  "language_info": {
   "codemirror_mode": {
    "name": "ipython",
    "version": 3
   },
   "file_extension": ".py",
   "mimetype": "text/x-python",
   "name": "python",
   "nbconvert_exporter": "python",
   "pygments_lexer": "ipython3",
   "version": "3.13.5"
  }
 },
 "nbformat": 4,
 "nbformat_minor": 2
}
